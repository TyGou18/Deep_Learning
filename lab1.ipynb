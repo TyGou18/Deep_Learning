{
 "cells": [
  {
   "cell_type": "code",
   "execution_count": 99,
   "outputs": [],
   "source": [
    "import pandas as pd\n",
    "import spacy\n",
    "from time import time"
   ],
   "metadata": {
    "collapsed": false
   }
  },
  {
   "cell_type": "markdown",
   "source": [
    "Dataset -- amazon book reviews\n",
    "https://www.kaggle.com/datasets/meetnagadia/amazon-kindle-book-review-for-sentiment-analysis"
   ],
   "metadata": {
    "collapsed": false
   }
  },
  {
   "cell_type": "markdown",
   "source": [
    "Подивимося на дані, видалимо лишні стовпчики, проведемо препроцессинг (токенізація + видалимо стоп-слова, пунктуацію тощо)"
   ],
   "metadata": {
    "collapsed": false
   }
  },
  {
   "cell_type": "code",
   "execution_count": 100,
   "metadata": {
    "collapsed": true
   },
   "outputs": [
    {
     "data": {
      "text/plain": "   Unnamed: 0  rating                                         reviewText  \\\n0           0       5  This book was the very first bookmobile book I...   \n1           1       1  When I read the description for this book, I c...   \n2           2       5  I just had to edit this review. This book is a...   \n3           3       5  I don't normally buy 'mystery' novels because ...   \n4           4       5  This isn't the kind of book I normally read, a...   \n\n                           summary  \n0                50 + years ago...  \n1          Boring! Boring! Boring!  \n2  Wiggleliscious/new toy ready/!!  \n3                  Very good read.  \n4                     Great Story!  ",
      "text/html": "<div>\n<style scoped>\n    .dataframe tbody tr th:only-of-type {\n        vertical-align: middle;\n    }\n\n    .dataframe tbody tr th {\n        vertical-align: top;\n    }\n\n    .dataframe thead th {\n        text-align: right;\n    }\n</style>\n<table border=\"1\" class=\"dataframe\">\n  <thead>\n    <tr style=\"text-align: right;\">\n      <th></th>\n      <th>Unnamed: 0</th>\n      <th>rating</th>\n      <th>reviewText</th>\n      <th>summary</th>\n    </tr>\n  </thead>\n  <tbody>\n    <tr>\n      <th>0</th>\n      <td>0</td>\n      <td>5</td>\n      <td>This book was the very first bookmobile book I...</td>\n      <td>50 + years ago...</td>\n    </tr>\n    <tr>\n      <th>1</th>\n      <td>1</td>\n      <td>1</td>\n      <td>When I read the description for this book, I c...</td>\n      <td>Boring! Boring! Boring!</td>\n    </tr>\n    <tr>\n      <th>2</th>\n      <td>2</td>\n      <td>5</td>\n      <td>I just had to edit this review. This book is a...</td>\n      <td>Wiggleliscious/new toy ready/!!</td>\n    </tr>\n    <tr>\n      <th>3</th>\n      <td>3</td>\n      <td>5</td>\n      <td>I don't normally buy 'mystery' novels because ...</td>\n      <td>Very good read.</td>\n    </tr>\n    <tr>\n      <th>4</th>\n      <td>4</td>\n      <td>5</td>\n      <td>This isn't the kind of book I normally read, a...</td>\n      <td>Great Story!</td>\n    </tr>\n  </tbody>\n</table>\n</div>"
     },
     "execution_count": 100,
     "metadata": {},
     "output_type": "execute_result"
    }
   ],
   "source": [
    "texts = pd.read_csv(\"preprocessed_kindle_review.csv\")\n",
    "texts.head()"
   ]
  },
  {
   "cell_type": "code",
   "execution_count": 101,
   "outputs": [],
   "source": [
    "texts.drop(columns=['Unnamed: 0', 'summary', 'rating'], inplace=True)"
   ],
   "metadata": {
    "collapsed": false
   }
  },
  {
   "cell_type": "code",
   "execution_count": 102,
   "outputs": [],
   "source": [
    "nlp = spacy.load(\"en_core_web_sm\")\n",
    "def preprocess_doc(doc):\n",
    "    processed_text = \" \".join([token.lemma_.lower() for token in doc if not token.is_stop and token.is_alpha])\n",
    "    return processed_text"
   ],
   "metadata": {
    "collapsed": false
   }
  },
  {
   "cell_type": "code",
   "execution_count": 103,
   "outputs": [
    {
     "name": "stdout",
     "output_type": "stream",
     "text": [
      "Time to clean up everything: 1.52 mins\n"
     ]
    },
    {
     "data": {
      "text/plain": "                                          reviewText  \\\n0  This book was the very first bookmobile book I...   \n1  When I read the description for this book, I c...   \n2  I just had to edit this review. This book is a...   \n3  I don't normally buy 'mystery' novels because ...   \n4  This isn't the kind of book I normally read, a...   \n\n                                   preprocessed_text  \n0  book bookmobile book buy school book club love...  \n1  read description book wait read download kindl...  \n2  edit review book believe get right update writ...  \n3  normally buy mystery novel like time decide ch...  \n4  kind book normally read try limit certain genr...  ",
      "text/html": "<div>\n<style scoped>\n    .dataframe tbody tr th:only-of-type {\n        vertical-align: middle;\n    }\n\n    .dataframe tbody tr th {\n        vertical-align: top;\n    }\n\n    .dataframe thead th {\n        text-align: right;\n    }\n</style>\n<table border=\"1\" class=\"dataframe\">\n  <thead>\n    <tr style=\"text-align: right;\">\n      <th></th>\n      <th>reviewText</th>\n      <th>preprocessed_text</th>\n    </tr>\n  </thead>\n  <tbody>\n    <tr>\n      <th>0</th>\n      <td>This book was the very first bookmobile book I...</td>\n      <td>book bookmobile book buy school book club love...</td>\n    </tr>\n    <tr>\n      <th>1</th>\n      <td>When I read the description for this book, I c...</td>\n      <td>read description book wait read download kindl...</td>\n    </tr>\n    <tr>\n      <th>2</th>\n      <td>I just had to edit this review. This book is a...</td>\n      <td>edit review book believe get right update writ...</td>\n    </tr>\n    <tr>\n      <th>3</th>\n      <td>I don't normally buy 'mystery' novels because ...</td>\n      <td>normally buy mystery novel like time decide ch...</td>\n    </tr>\n    <tr>\n      <th>4</th>\n      <td>This isn't the kind of book I normally read, a...</td>\n      <td>kind book normally read try limit certain genr...</td>\n    </tr>\n  </tbody>\n</table>\n</div>"
     },
     "execution_count": 103,
     "metadata": {},
     "output_type": "execute_result"
    }
   ],
   "source": [
    "t = time()\n",
    "\n",
    "texts[\"preprocessed_text\"] = [preprocess_doc(doc) for doc in nlp.pipe(texts[\"reviewText\"], n_process=-1)]\n",
    "print('Time to clean up everything: {} mins'.format(round((time() - t) / 60, 2)))\n",
    "texts.head()"
   ],
   "metadata": {
    "collapsed": false
   }
  },
  {
   "cell_type": "code",
   "execution_count": 104,
   "outputs": [
    {
     "data": {
      "text/plain": "(12000, 2)"
     },
     "execution_count": 104,
     "metadata": {},
     "output_type": "execute_result"
    }
   ],
   "source": [
    "texts = texts.dropna().drop_duplicates()\n",
    "texts.shape"
   ],
   "metadata": {
    "collapsed": false
   }
  },
  {
   "cell_type": "markdown",
   "source": [
    "### 1. Використати алгоритми/моделі tf-idf, BoW, Word2Vec, Doc2Vec для feature extraction."
   ],
   "metadata": {
    "collapsed": false
   }
  },
  {
   "cell_type": "markdown",
   "source": [
    "TF-IDF"
   ],
   "metadata": {
    "collapsed": false
   }
  },
  {
   "cell_type": "code",
   "execution_count": 105,
   "outputs": [],
   "source": [
    "from gensim import corpora\n",
    "from gensim.models import TfidfModel\n",
    "\n",
    "# Create a list of tokenized documents\n",
    "tokenized_reviews = [doc.split() for doc in texts[\"preprocessed_text\"]]\n",
    "\n",
    "# Create a dictionary from the tokenized documents\n",
    "dictionary = corpora.Dictionary(tokenized_reviews)\n",
    "\n",
    "# Create a corpus from the tokenized documents\n",
    "corpus = [dictionary.doc2bow(doc) for doc in tokenized_reviews]\n",
    "\n",
    "# Create the TF-IDF model\n",
    "tfidf_model = TfidfModel(corpus)\n",
    "\n",
    "# Compute the TF-IDF scores\n",
    "tfidf_scores = tfidf_model[corpus]"
   ],
   "metadata": {
    "collapsed": false
   }
  },
  {
   "cell_type": "code",
   "execution_count": 106,
   "outputs": [
    {
     "name": "stdout",
     "output_type": "stream",
     "text": [
      "Document 1:\n",
      "\tWord: bet, TF-IDF Score: 0.25635241285087756\n",
      "\tWord: book, TF-IDF Score: 0.08556797458511392\n",
      "\tWord: bookmobile, TF-IDF Score: 0.3996158090740527\n",
      "\tWord: buy, TF-IDF Score: 0.23021841678644553\n",
      "\tWord: club, TF-IDF Score: 0.20454592340564887\n",
      "\tWord: dollar, TF-IDF Score: 0.23069762301281474\n",
      "\tWord: donut, TF-IDF Score: 0.37012549275398793\n",
      "\tWord: forward, TF-IDF Score: 0.1403616346693509\n",
      "\tWord: grade, TF-IDF Score: 0.2471530854305076\n",
      "\tWord: look, TF-IDF Score: 0.09044476556124408\n",
      "\tWord: love, TF-IDF Score: 0.11236331629378038\n",
      "\tWord: memory, TF-IDF Score: 0.41446780691278184\n",
      "\tWord: relive, TF-IDF Score: 0.37012549275398793\n",
      "\tWord: school, TF-IDF Score: 0.16319759679285945\n",
      "\tWord: serve, TF-IDF Score: 0.21060084294839582\n",
      "\tWord: story, TF-IDF Score: 0.02933460133533035\n",
      "Document 2:\n",
      "\tWord: book, TF-IDF Score: 0.05355708720723589\n",
      "\tWord: love, TF-IDF Score: 0.05274624027404937\n",
      "\tWord: story, TF-IDF Score: 0.009180279243042308\n",
      "\tWord: aaron, TF-IDF Score: 0.5521617339171142\n",
      "\tWord: accommodate, TF-IDF Score: 0.10660196141476498\n",
      "\tWord: ago, TF-IDF Score: 0.0517044187810137\n",
      "\tWord: angry, TF-IDF Score: 0.06606521854226281\n",
      "\tWord: author, TF-IDF Score: 0.02032245269628152\n",
      "\tWord: barf, TF-IDF Score: 0.12505998207705898\n",
      "\tWord: begin, TF-IDF Score: 0.04558874526094642\n",
      "\tWord: beginning, TF-IDF Score: 0.04386627296502013\n",
      "\tWord: believe, TF-IDF Score: 0.08049399256345371\n",
      "\tWord: bit, TF-IDF Score: 0.03232239290458866\n",
      "\tWord: blah, TF-IDF Score: 0.1586753062919363\n",
      "\tWord: boring, TF-IDF Score: 0.04885246436856085\n",
      "\tWord: cause, TF-IDF Score: 0.054251089331049974\n",
      "\tWord: character, TF-IDF Score: 0.01520240859029379\n",
      "\tWord: child, TF-IDF Score: 0.09405135961527947\n",
      "\tWord: contact, TF-IDF Score: 0.0712281798758884\n",
      "\tWord: depressed, TF-IDF Score: 0.09737295108361797\n",
      "\tWord: describe, TF-IDF Score: 0.048382235333230536\n",
      "\tWord: description, TF-IDF Score: 0.04345383940607171\n",
      "\tWord: dessert, TF-IDF Score: 0.10363088370116305\n",
      "\tWord: download, TF-IDF Score: 0.04618060480753291\n",
      "\tWord: drama, TF-IDF Score: 0.059359201370067005\n",
      "\tWord: eat, TF-IDF Score: 0.06757415003163095\n",
      "\tWord: emotion, TF-IDF Score: 0.05253859429106982\n",
      "\tWord: everybody, TF-IDF Score: 0.07662680483837754\n",
      "\tWord: example, TF-IDF Score: 0.05505828479654084\n",
      "\tWord: extremely, TF-IDF Score: 0.054251089331049974\n",
      "\tWord: eyed, TF-IDF Score: 0.09915087449819297\n",
      "\tWord: fall, TF-IDF Score: 0.03953671335645175\n",
      "\tWord: far, TF-IDF Score: 0.040853372227548874\n",
      "\tWord: father, TF-IDF Score: 0.19319398054484246\n",
      "\tWord: finally, TF-IDF Score: 0.18749921600525124\n",
      "\tWord: find, TF-IDF Score: 0.042681257264432795\n",
      "\tWord: follow, TF-IDF Score: 0.041818086062326384\n",
      "\tWord: foolish, TF-IDF Score: 0.10120333645227585\n",
      "\tWord: frustrating, TF-IDF Score: 0.07170375355286283\n",
      "\tWord: go, TF-IDF Score: 0.025163667988308856\n",
      "\tWord: good, TF-IDF Score: 0.030663254333042483\n",
      "\tWord: graduate, TF-IDF Score: 0.08117707619615057\n",
      "\tWord: grandmother, TF-IDF Score: 0.0797742380763799\n",
      "\tWord: half, TF-IDF Score: 0.04800948368972253\n",
      "\tWord: halfway, TF-IDF Score: 0.0698956039109207\n",
      "\tWord: hard, TF-IDF Score: 0.03634271940360241\n",
      "\tWord: harvard, TF-IDF Score: 0.11043234678342284\n",
      "\tWord: heartbeat, TF-IDF Score: 0.10363088370116305\n",
      "\tWord: honest, TF-IDF Score: 0.057822929732618\n",
      "\tWord: hurt, TF-IDF Score: 0.05732043057136743\n",
      "\tWord: interesting, TF-IDF Score: 0.031029390360216756\n",
      "\tWord: jada, TF-IDF Score: 0.34749291523773596\n",
      "\tWord: job, TF-IDF Score: 0.043511982063692924\n",
      "\tWord: keep, TF-IDF Score: 0.035990326312734904\n",
      "\tWord: kindle, TF-IDF Score: 0.06739742952738\n",
      "\tWord: know, TF-IDF Score: 0.04614907328655783\n",
      "\tWord: lack, TF-IDF Score: 0.04473156607643087\n",
      "\tWord: leave, TF-IDF Score: 0.03291368097028845\n",
      "\tWord: let, TF-IDF Score: 0.07687552202962947\n",
      "\tWord: life, TF-IDF Score: 0.0307807224842332\n",
      "\tWord: like, TF-IDF Score: 0.014211467485283676\n",
      "\tWord: make, TF-IDF Score: 0.034312138551300386\n",
      "\tWord: man, TF-IDF Score: 0.029976821011346428\n",
      "\tWord: maybe, TF-IDF Score: 0.04228806358604535\n",
      "\tWord: mean, TF-IDF Score: 0.04169042787024889\n",
      "\tWord: meet, TF-IDF Score: 0.0392163775984405\n",
      "\tWord: mention, TF-IDF Score: 0.04885246436856085\n",
      "\tWord: middle, TF-IDF Score: 0.053992544363960136\n",
      "\tWord: mind, TF-IDF Score: 0.04266542703081452\n",
      "\tWord: misty, TF-IDF Score: 0.10363088370116305\n",
      "\tWord: month, TF-IDF Score: 0.051921805608878296\n",
      "\tWord: omg, TF-IDF Score: 0.07933765314596815\n",
      "\tWord: overwhelmed, TF-IDF Score: 0.08992186416704596\n",
      "\tWord: passion, TF-IDF Score: 0.2366759555440639\n",
      "\tWord: perfect, TF-IDF Score: 0.04744962624879017\n",
      "\tWord: personality, TF-IDF Score: 0.059074892046061755\n",
      "\tWord: pregnant, TF-IDF Score: 0.06757415003163095\n",
      "\tWord: read, TF-IDF Score: 0.05669944152012966\n",
      "\tWord: realize, TF-IDF Score: 0.0439262489557886\n",
      "\tWord: reflect, TF-IDF Score: 0.0822017853252671\n",
      "\tWord: remain, TF-IDF Score: 0.062474743221715826\n",
      "\tWord: scene, TF-IDF Score: 0.06226494403307793\n",
      "\tWord: see, TF-IDF Score: 0.039364909070324\n",
      "\tWord: slow, TF-IDF Score: 0.10308735323644831\n",
      "\tWord: son, TF-IDF Score: 0.11547570364747775\n",
      "\tWord: speech, TF-IDF Score: 0.08022562528451081\n",
      "\tWord: start, TF-IDF Score: 0.028605646752960075\n",
      "\tWord: stop, TF-IDF Score: 0.08577192907089508\n",
      "\tWord: struggle, TF-IDF Score: 0.05584382690315773\n",
      "\tWord: sweet, TF-IDF Score: 0.08920891260996515\n",
      "\tWord: tell, TF-IDF Score: 0.10185619995179444\n",
      "\tWord: theme, TF-IDF Score: 0.05732043057136743\n",
      "\tWord: think, TF-IDF Score: 0.021686773133029136\n",
      "\tWord: throw, TF-IDF Score: 0.04885246436856085\n",
      "\tWord: tooth, TF-IDF Score: 0.0822017853252671\n",
      "\tWord: torture, TF-IDF Score: 0.06907598226866504\n",
      "\tWord: touch, TF-IDF Score: 0.05555278477014494\n",
      "\tWord: truly, TF-IDF Score: 0.049939978554868966\n",
      "\tWord: understanding, TF-IDF Score: 0.06907598226866504\n",
      "\tWord: uninteresting, TF-IDF Score: 0.0822017853252671\n",
      "\tWord: upset, TF-IDF Score: 0.07032514591737184\n",
      "\tWord: wait, TF-IDF Score: 0.0396017158326879\n",
      "\tWord: want, TF-IDF Score: 0.022949574229657002\n",
      "\tWord: way, TF-IDF Score: 0.02512699859736179\n",
      "\tWord: well, TF-IDF Score: 0.03136444038266443\n",
      "\tWord: woman, TF-IDF Score: 0.03331395101571759\n",
      "\tWord: wonderful, TF-IDF Score: 0.04635980868950908\n",
      "\tWord: wth, TF-IDF Score: 0.10363088370116305\n",
      "\tWord: year, TF-IDF Score: 0.03295317080873812\n",
      "\tWord: yes, TF-IDF Score: 0.049705971697915345\n",
      "Document 3:\n",
      "\tWord: book, TF-IDF Score: 0.011432553185766605\n",
      "\tWord: buy, TF-IDF Score: 0.030758987892555576\n",
      "\tWord: love, TF-IDF Score: 0.04503786361262916\n",
      "\tWord: story, TF-IDF Score: 0.007838666079815516\n",
      "\tWord: believe, TF-IDF Score: 0.03436526887862768\n",
      "\tWord: character, TF-IDF Score: 0.012980716750914499\n",
      "\tWord: child, TF-IDF Score: 0.04015331031109815\n",
      "\tWord: description, TF-IDF Score: 0.0371034614495283\n",
      "\tWord: fall, TF-IDF Score: 0.03375878725361112\n",
      "\tWord: go, TF-IDF Score: 0.021486229937198342\n",
      "\tWord: know, TF-IDF Score: 0.05910721762528538\n",
      "\tWord: let, TF-IDF Score: 0.0328204366636492\n",
      "\tWord: life, TF-IDF Score: 0.05256480742287625\n",
      "\tWord: like, TF-IDF Score: 0.024269185102560584\n",
      "\tWord: read, TF-IDF Score: 0.02766476625581758\n",
      "\tWord: scene, TF-IDF Score: 0.05316549658591362\n",
      "\tWord: think, TF-IDF Score: 0.018517451205786434\n",
      "\tWord: throw, TF-IDF Score: 0.04171312715258211\n",
      "\tWord: yes, TF-IDF Score: 0.12732570676693197\n",
      "\tWord: absolute, TF-IDF Score: 0.06850138988160916\n",
      "\tWord: ah, TF-IDF Score: 0.08060591002364285\n",
      "\tWord: amazon, TF-IDF Score: 0.043136086208303344\n",
      "\tWord: baby, TF-IDF Score: 0.10567854165286857\n",
      "\tWord: barrett, TF-IDF Score: 0.18858735511813698\n",
      "\tWord: battery, TF-IDF Score: 0.16360747257457733\n",
      "\tWord: bechett, TF-IDF Score: 0.320350856492545\n",
      "\tWord: bedroom, TF-IDF Score: 0.05668435709195127\n",
      "\tWord: boy, TF-IDF Score: 0.13216983023568077\n",
      "\tWord: bring, TF-IDF Score: 0.036810055888455845\n",
      "\tWord: broaden, TF-IDF Score: 0.08641340199034246\n",
      "\tWord: castle, TF-IDF Score: 0.14037750470777888\n",
      "\tWord: catchin, TF-IDF Score: 0.10678361883084833\n",
      "\tWord: choice, TF-IDF Score: 0.047434257508785486\n",
      "\tWord: cousin, TF-IDF Score: 0.05641039601658314\n",
      "\tWord: cover, TF-IDF Score: 0.04212933729094678\n",
      "\tWord: cripes, TF-IDF Score: 0.10678361883084833\n",
      "\tWord: crusade, TF-IDF Score: 0.09429367755906849\n",
      "\tWord: daydream, TF-IDF Score: 0.08180373628728867\n",
      "\tWord: dead, TF-IDF Score: 0.04959340272130815\n",
      "\tWord: deal, TF-IDF Score: 0.04082029536554278\n",
      "\tWord: debauched, TF-IDF Score: 0.10678361883084833\n",
      "\tWord: deliver, TF-IDF Score: 0.05101636177702937\n",
      "\tWord: depth, TF-IDF Score: 0.043052182989963696\n",
      "\tWord: desaxby, TF-IDF Score: 0.0989033432621223\n",
      "\tWord: early, TF-IDF Score: 0.0871302995010123\n",
      "\tWord: earn, TF-IDF Score: 0.06573169074726494\n",
      "\tWord: edit, TF-IDF Score: 0.05189131911540998\n",
      "\tWord: ending, TF-IDF Score: 0.03421058847236083\n",
      "\tWord: enjoyin, TF-IDF Score: 0.10678361883084833\n",
      "\tWord: expect, TF-IDF Score: 0.032702098284574925\n",
      "\tWord: face, TF-IDF Score: 0.04410235997725593\n",
      "\tWord: fact, TF-IDF Score: 0.03403905209098374\n",
      "\tWord: faint, TF-IDF Score: 0.06811596875186302\n",
      "\tWord: favorite, TF-IDF Score: 0.03910218072130975\n",
      "\tWord: filet, TF-IDF Score: 0.10678361883084833\n",
      "\tWord: freggin, TF-IDF Score: 0.10678361883084833\n",
      "\tWord: friend, TF-IDF Score: 0.03043753661608376\n",
      "\tWord: gent, TF-IDF Score: 0.10678361883084833\n",
      "\tWord: get, TF-IDF Score: 0.04362124297495256\n",
      "\tWord: girl, TF-IDF Score: 0.11236686494022599\n",
      "\tWord: god, TF-IDF Score: 0.04908480774873874\n",
      "\tWord: gotton, TF-IDF Score: 0.0989033432621223\n",
      "\tWord: guy, TF-IDF Score: 0.03370355394100121\n",
      "\tWord: ha, TF-IDF Score: 0.22578754966783265\n",
      "\tWord: happen, TF-IDF Score: 0.02870275453601969\n",
      "\tWord: happy, TF-IDF Score: 0.0376879101142222\n",
      "\tWord: hayloft, TF-IDF Score: 0.10678361883084833\n",
      "\tWord: heart, TF-IDF Score: 0.0793551148892288\n",
      "\tWord: heat, TF-IDF Score: 0.048001242089918385\n",
      "\tWord: hell, TF-IDF Score: 0.05036185966041182\n",
      "\tWord: hem, TF-IDF Score: 0.09429367755906849\n",
      "\tWord: hero, TF-IDF Score: 0.06980684220967617\n",
      "\tWord: hmmmm, TF-IDF Score: 0.2654585567771066\n",
      "\tWord: home, TF-IDF Score: 0.038897331314603656\n",
      "\tWord: honestly, TF-IDF Score: 0.05052198673687525\n",
      "\tWord: hunk, TF-IDF Score: 0.06931379501550883\n",
      "\tWord: induce, TF-IDF Score: 0.07526251655594422\n",
      "\tWord: inducer, TF-IDF Score: 0.10678361883084833\n",
      "\tWord: inside, TF-IDF Score: 0.054092152086212715\n",
      "\tWord: keeper, TF-IDF Score: 0.1246169535703268\n",
      "\tWord: king, TF-IDF Score: 0.05355324387805677\n",
      "\tWord: large, TF-IDF Score: 0.05084917002146098\n",
      "\tWord: little, TF-IDF Score: 0.022515994815175976\n",
      "\tWord: loved, TF-IDF Score: 0.0632564284961877\n",
      "\tWord: loving, TF-IDF Score: 0.061646027213147866\n",
      "\tWord: luv, TF-IDF Score: 0.18204613538679254\n",
      "\tWord: luve, TF-IDF Score: 0.0989033432621223\n",
      "\tWord: match, TF-IDF Score: 0.05668435709195127\n",
      "\tWord: matter, TF-IDF Score: 0.0435215073380495\n",
      "\tWord: max, TF-IDF Score: 0.0593257008879582\n",
      "\tWord: meat, TF-IDF Score: 0.06301192800865509\n",
      "\tWord: mfff, TF-IDF Score: 0.10678361883084833\n",
      "\tWord: mignon, TF-IDF Score: 0.10678361883084833\n",
      "\tWord: modern, TF-IDF Score: 0.05245055485983451\n",
      "\tWord: move, TF-IDF Score: 0.040548787907208866\n",
      "\tWord: new, TF-IDF Score: 0.030327824454801207\n",
      "\tWord: old, TF-IDF Score: 0.03195366445830512\n",
      "\tWord: picked, TF-IDF Score: 0.10678361883084833\n",
      "\tWord: portrayal, TF-IDF Score: 0.07526251655594422\n",
      "\tWord: premise, TF-IDF Score: 0.08335206934876092\n",
      "\tWord: raise, TF-IDF Score: 0.05641039601658314\n",
      "\tWord: rate, TF-IDF Score: 0.04853012044785712\n",
      "\tWord: reading, TF-IDF Score: 0.03758408442016497\n",
      "\tWord: real, TF-IDF Score: 0.0646759993752539\n",
      "\tWord: refreshment, TF-IDF Score: 0.10678361883084833\n",
      "\tWord: responsible, TF-IDF Score: 0.06703240309304268\n",
      "\tWord: review, TF-IDF Score: 0.02721872107454648\n",
      "\tWord: reward, TF-IDF Score: 0.07272563445491682\n",
      "\tWord: right, TF-IDF Score: 0.03233799968762695\n",
      "\tWord: righteously, TF-IDF Score: 0.0989033432621223\n",
      "\tWord: run, TF-IDF Score: 0.038498383907849834\n",
      "\tWord: s, TF-IDF Score: 0.05245055485983451\n",
      "\tWord: say, TF-IDF Score: 0.031251473009260275\n",
      "\tWord: scottie, TF-IDF Score: 0.18204613538679254\n",
      "\tWord: shrinkin, TF-IDF Score: 0.10678361883084833\n",
      "\tWord: site, TF-IDF Score: 0.06484535888619081\n",
      "\tWord: snooze, TF-IDF Score: 0.09102306769339627\n",
      "\tWord: stuck, TF-IDF Score: 0.08314279212467025\n",
      "\tWord: study, TF-IDF Score: 0.06102006171963695\n",
      "\tWord: stupid, TF-IDF Score: 0.04959340272130815\n",
      "\tWord: suitably, TF-IDF Score: 0.08641340199034246\n",
      "\tWord: supply, TF-IDF Score: 0.06890033728836298\n",
      "\tWord: survive, TF-IDF Score: 0.05110088881684487\n",
      "\tWord: take, TF-IDF Score: 0.02689124325484713\n",
      "\tWord: taste, TF-IDF Score: 0.04859799428816756\n",
      "\tWord: thank, TF-IDF Score: 0.044811664887215476\n",
      "\tWord: time, TF-IDF Score: 0.034748661239104764\n",
      "\tWord: toy, TF-IDF Score: 0.06429067158530917\n",
      "\tWord: treat, TF-IDF Score: 0.049299997160235684\n",
      "\tWord: trick, TF-IDF Score: 0.06703240309304268\n",
      "\tWord: try, TF-IDF Score: 0.02622517791367979\n",
      "\tWord: turn, TF-IDF Score: 0.02999164281990596\n",
      "\tWord: update, TF-IDF Score: 0.05915212752431664\n",
      "\tWord: version, TF-IDF Score: 0.09198647669365945\n",
      "\tWord: violet, TF-IDF Score: 0.09429367755906849\n",
      "\tWord: walk, TF-IDF Score: 0.09816961549747748\n",
      "\tWord: wall, TF-IDF Score: 0.05710808941038283\n",
      "\tWord: war, TF-IDF Score: 0.04731201079884198\n",
      "\tWord: wastrel, TF-IDF Score: 0.10678361883084833\n",
      "\tWord: week, TF-IDF Score: 0.04719106461047553\n",
      "\tWord: whe, TF-IDF Score: 0.10678361883084833\n",
      "\tWord: wright, TF-IDF Score: 0.06573169074726494\n",
      "\tWord: write, TF-IDF Score: 0.040729067687789465\n"
     ]
    }
   ],
   "source": [
    "for i, doc_scores in enumerate(tfidf_scores[:3]):\n",
    "    print(f\"Document {i+1}:\")\n",
    "    for word_id, score in doc_scores:\n",
    "        word = dictionary[word_id]\n",
    "        print(f\"\\tWord: {word}, TF-IDF Score: {score}\")"
   ],
   "metadata": {
    "collapsed": false
   }
  },
  {
   "cell_type": "markdown",
   "source": [
    "BoW"
   ],
   "metadata": {
    "collapsed": false
   }
  },
  {
   "cell_type": "code",
   "execution_count": 107,
   "outputs": [],
   "source": [
    "from collections import Counter"
   ],
   "metadata": {
    "collapsed": false
   }
  },
  {
   "cell_type": "code",
   "execution_count": 108,
   "outputs": [
    {
     "data": {
      "text/plain": "['bet',\n 'book',\n 'book',\n 'book',\n 'book',\n 'bookmobile',\n 'buy',\n 'buy',\n 'club',\n 'dollar',\n 'donut',\n 'forward',\n 'grade',\n 'look',\n 'love',\n 'love',\n 'memory',\n 'memory',\n 'relive',\n 'school',\n 'serve',\n 'story']"
     },
     "execution_count": 108,
     "metadata": {},
     "output_type": "execute_result"
    }
   ],
   "source": [
    "sorted(tokenized_reviews[0])"
   ],
   "metadata": {
    "collapsed": false
   }
  },
  {
   "cell_type": "code",
   "execution_count": 109,
   "outputs": [
    {
     "data": {
      "text/plain": "[(0, 1),\n (1, 4),\n (2, 1),\n (3, 2),\n (4, 1),\n (5, 1),\n (6, 1),\n (7, 1),\n (8, 1),\n (9, 1),\n (10, 2),\n (11, 2),\n (12, 1),\n (13, 1),\n (14, 1),\n (15, 1)]"
     },
     "execution_count": 109,
     "metadata": {},
     "output_type": "execute_result"
    }
   ],
   "source": [
    "dictionary.doc2bow(tokenized_reviews[0])"
   ],
   "metadata": {
    "collapsed": false
   }
  },
  {
   "cell_type": "code",
   "execution_count": 110,
   "outputs": [
    {
     "name": "stdout",
     "output_type": "stream",
     "text": [
      "Counter({'book': 4, 'buy': 2, 'love': 2, 'memory': 2, 'bookmobile': 1, 'school': 1, 'club': 1, 'story': 1, 'bet': 1, 'dollar': 1, 'donut': 1, 'serve': 1, 'grade': 1, 'look': 1, 'forward': 1, 'relive': 1})\n",
      "Counter({'book': 8, 'read': 7, 'aaron': 5, 'passion': 4, 'father': 4, 'finally': 4, 'love': 3, 'jada': 3, 'tell': 3, 'kindle': 2, 'find': 2, 'stop': 2, 'slow': 2, 'blah': 2, 'child': 2, 'son': 2, 'know': 2, 'good': 2, 'let': 2, 'scene': 2, 'sweet': 2, 'believe': 2, 'description': 1, 'wait': 1, 'download': 1, 'extremely': 1, 'hard': 1, 'honest': 1, 'halfway': 1, 'begin': 1, 'remain': 1, 'uninteresting': 1, 'lack': 1, 'make': 1, 'life': 1, 'interesting': 1, 'character': 1, 'story': 1, 'perfect': 1, 'everybody': 1, 'understanding': 1, 'accommodate': 1, 'bit': 1, 'drama': 1, 'grandmother': 1, 'example': 1, 'mean': 1, 'half': 1, 'way': 1, 'year': 1, 'ago': 1, 'mind': 1, 'keep': 1, 'contact': 1, 'month': 1, 'leave': 1, 'mention': 1, 'pregnant': 1, 'overwhelmed': 1, 'emotion': 1, 'misty': 1, 'eyed': 1, 'wth': 1, 'think': 1, 'man': 1, 'upset': 1, 'angry': 1, 'woman': 1, 'omg': 1, 'start': 1, 'meet': 1, 'want': 1, 'barf': 1, 'maybe': 1, 'beginning': 1, 'touch': 1, 'middle': 1, 'throw': 1, 'like': 1, 'eat': 1, 'dessert': 1, 'tooth': 1, 'hurt': 1, 'theme': 1, 'follow': 1, 'graduate': 1, 'harvard': 1, 'reflect': 1, 'speech': 1, 'job': 1, 'wonderful': 1, 'personality': 1, 'cause': 1, 'fall': 1, 'see': 1, 'author': 1, 'describe': 1, 'depressed': 1, 'foolish': 1, 'yes': 1, 'heartbeat': 1, 'boring': 1, 'frustrating': 1, 'truly': 1, 'struggle': 1, 'far': 1, 'torture': 1, 'realize': 1, 'go': 1, 'well': 1})\n",
      "23763\n"
     ]
    }
   ],
   "source": [
    "bag_of_words = []\n",
    "unique_words = set()\n",
    "\n",
    "for tokenized_text in tokenized_reviews:\n",
    "    frequency = Counter(tokenized_text)\n",
    "    bag_of_words.append(frequency)\n",
    "    unique_words.update(tokenized_text)\n",
    "\n",
    "print(bag_of_words[0])\n",
    "print(bag_of_words[1])\n",
    "print(len(unique_words))"
   ],
   "metadata": {
    "collapsed": false
   }
  },
  {
   "cell_type": "markdown",
   "source": [
    "Word2Vec"
   ],
   "metadata": {
    "collapsed": false
   }
  },
  {
   "cell_type": "code",
   "execution_count": 111,
   "outputs": [],
   "source": [
    "import multiprocessing\n",
    "from gensim.models import Word2Vec"
   ],
   "metadata": {
    "collapsed": false
   }
  },
  {
   "cell_type": "code",
   "execution_count": 112,
   "outputs": [],
   "source": [
    "cores = multiprocessing.cpu_count()"
   ],
   "metadata": {
    "collapsed": false
   }
  },
  {
   "cell_type": "code",
   "execution_count": 113,
   "outputs": [],
   "source": [
    "w2v_model = Word2Vec(min_count=1,\n",
    "                     window=1,\n",
    "                     sample=6e-5,\n",
    "                     alpha=0.03,\n",
    "                     min_alpha=0.0007,\n",
    "                     negative=20,\n",
    "                     workers=cores-1)"
   ],
   "metadata": {
    "collapsed": false
   }
  },
  {
   "cell_type": "code",
   "execution_count": 114,
   "outputs": [
    {
     "name": "stdout",
     "output_type": "stream",
     "text": [
      "Time to build vocab: 0.01 mins\n"
     ]
    }
   ],
   "source": [
    "t = time()\n",
    "w2v_model.build_vocab(tokenized_reviews, progress_per=1)\n",
    "print('Time to build vocab: {} mins'.format(round((time() - t) / 60, 2)))"
   ],
   "metadata": {
    "collapsed": false
   }
  },
  {
   "cell_type": "code",
   "execution_count": 115,
   "outputs": [
    {
     "data": {
      "text/plain": "[('groovy', 0.3726963400840759),\n ('muffin', 0.3443751335144043),\n ('jet', 0.34161823987960815),\n ('ths', 0.34132227301597595),\n ('perfectionist', 0.3407387137413025),\n ('kelly', 0.33902761340141296),\n ('stiletto', 0.33505386114120483),\n ('negate', 0.33131006360054016),\n ('actuality', 0.3292902112007141),\n ('management', 0.320794939994812)]"
     },
     "execution_count": 115,
     "metadata": {},
     "output_type": "execute_result"
    }
   ],
   "source": [
    "w2v_model.wv.most_similar(\"science\")"
   ],
   "metadata": {
    "collapsed": false
   }
  },
  {
   "cell_type": "code",
   "execution_count": 116,
   "outputs": [
    {
     "name": "stdout",
     "output_type": "stream",
     "text": [
      "Time to train the model: 0.14 mins\n"
     ]
    }
   ],
   "source": [
    "#train model\n",
    "t = time()\n",
    "w2v_model.train(tokenized_reviews, total_examples=w2v_model.corpus_count, epochs=30, report_delay=1)\n",
    "print('Time to train the model: {} mins'.format(round((time() - t) / 60, 2)))"
   ],
   "metadata": {
    "collapsed": false
   }
  },
  {
   "cell_type": "code",
   "execution_count": 117,
   "outputs": [
    {
     "data": {
      "text/plain": "[('asimov', 0.8096764087677002),\n ('analog', 0.7690597772598267),\n ('speculative', 0.7681789398193359),\n ('pulp', 0.7666961550712585),\n ('technology', 0.7505962252616882),\n ('flash', 0.7325021028518677),\n ('fiction', 0.718043327331543),\n ('trend', 0.706889808177948),\n ('advanced', 0.6995603442192078),\n ('releax', 0.6983894109725952)]"
     },
     "execution_count": 117,
     "metadata": {},
     "output_type": "execute_result"
    }
   ],
   "source": [
    "w2v_model.wv.most_similar(\"science\")"
   ],
   "metadata": {
    "collapsed": false
   }
  },
  {
   "cell_type": "markdown",
   "source": [
    "Doc2Vec"
   ],
   "metadata": {
    "collapsed": false
   }
  },
  {
   "cell_type": "code",
   "execution_count": 118,
   "outputs": [],
   "source": [
    "from gensim.models import Doc2Vec\n",
    "from gensim.models.doc2vec import TaggedDocument"
   ],
   "metadata": {
    "collapsed": false
   }
  },
  {
   "cell_type": "code",
   "execution_count": 119,
   "outputs": [],
   "source": [
    "documents = [TaggedDocument(words=doc, tags=[i]) for i, doc in enumerate(tokenized_reviews)]\n",
    "d2v_model = Doc2Vec(documents, vector_size=100, min_count=1, epochs=30)"
   ],
   "metadata": {
    "collapsed": false
   }
  },
  {
   "cell_type": "code",
   "execution_count": 120,
   "outputs": [
    {
     "data": {
      "text/plain": "array([-0.11095981, -0.06486581, -0.11347137, -0.32091355, -0.06308714,\n        0.05321413, -0.09706122, -0.2213369 ,  0.02773999, -0.37636384,\n       -0.1746189 ,  0.12287342,  0.01779163, -0.09120695,  0.27890617,\n       -0.20330189, -0.13827841, -0.20036004, -0.11344602, -0.13184811,\n       -0.2670707 ,  0.26829854, -0.05612657, -0.23672609,  0.2820123 ,\n        0.12936348, -0.08084273, -0.17784114, -0.14439514, -0.05022502,\n       -0.1377238 ,  0.11497473,  0.17679104, -0.20030618, -0.02092261,\n        0.17777343, -0.07151854,  0.08187978, -0.00783767, -0.21574773,\n       -0.12403399, -0.0944458 ,  0.10449786, -0.44210273,  0.02995184,\n        0.00679747, -0.37527898, -0.05209398, -0.25792846, -0.16684988,\n       -0.07457037, -0.06058825,  0.08761381, -0.28987744,  0.08523968,\n        0.13205802,  0.04912262, -0.2227792 , -0.3765109 ,  0.11402324,\n       -0.10014623,  0.2563076 , -0.17024802, -0.03615481,  0.15521415,\n        0.12434776, -0.10478158,  0.04515597, -0.03997979, -0.15731432,\n        0.02791961,  0.41765296, -0.04073398, -0.2983873 ,  0.37065205,\n       -0.18144661, -0.07082388,  0.05134654, -0.07426153, -0.08814944,\n       -0.34507388, -0.00838587,  0.32238358,  0.03145386,  0.2862208 ,\n       -0.266724  ,  0.0620237 ,  0.19601685, -0.1564853 , -0.20117344,\n       -0.00794134,  0.60514   , -0.2546146 , -0.1508834 ,  0.3779846 ,\n       -0.03850165, -0.12748605, -0.10216377,  0.2544009 ,  0.01485114],\n      dtype=float32)"
     },
     "execution_count": 120,
     "metadata": {},
     "output_type": "execute_result"
    }
   ],
   "source": [
    "d2v_model.dv[0]"
   ],
   "metadata": {
    "collapsed": false
   }
  },
  {
   "cell_type": "code",
   "execution_count": 121,
   "outputs": [
    {
     "name": "stdout",
     "output_type": "stream",
     "text": [
      "love book captivate read entire book day\n"
     ]
    },
    {
     "data": {
      "text/plain": "[(1739, 0.6759413480758667),\n (8821, 0.5977339148521423),\n (10612, 0.5970027446746826),\n (3823, 0.5897597670555115),\n (313, 0.5877304673194885),\n (795, 0.5861930251121521),\n (10729, 0.5811052322387695),\n (2242, 0.572374165058136),\n (9777, 0.5704280138015747),\n (1041, 0.5702077746391296)]"
     },
     "execution_count": 121,
     "metadata": {},
     "output_type": "execute_result"
    }
   ],
   "source": [
    "new_review = \"I really loved this book. It was so captivating I've read entire book in a day!\"\n",
    "new_review_clean = preprocess_doc(nlp(new_review))\n",
    "print(new_review_clean)\n",
    "\n",
    "new_vector = d2v_model.infer_vector(new_review_clean.split(), epochs=100)\n",
    "d2v_model.dv.most_similar([new_vector])"
   ],
   "metadata": {
    "collapsed": false
   }
  },
  {
   "cell_type": "code",
   "execution_count": 122,
   "outputs": [
    {
     "data": {
      "text/plain": "TaggedDocument(words=['love', 'story', 'love', 'preview', 'book', 'wait', 'read'], tags=[11238])"
     },
     "execution_count": 122,
     "metadata": {},
     "output_type": "execute_result"
    }
   ],
   "source": [
    "documents[11238]"
   ],
   "metadata": {
    "collapsed": false
   }
  },
  {
   "cell_type": "markdown",
   "source": [
    "__________________________________________________________________________________________________________________________________________________________"
   ],
   "metadata": {
    "collapsed": false
   }
  },
  {
   "cell_type": "markdown",
   "source": [
    "### 2. Summarization"
   ],
   "metadata": {
    "collapsed": false
   }
  },
  {
   "cell_type": "code",
   "execution_count": 123,
   "outputs": [],
   "source": [
    "num_words = 15"
   ],
   "metadata": {
    "collapsed": false
   }
  },
  {
   "cell_type": "markdown",
   "source": [
    "tf-idf"
   ],
   "metadata": {
    "collapsed": false
   }
  },
  {
   "cell_type": "code",
   "execution_count": 124,
   "outputs": [],
   "source": [
    "summarized_texts_tfidf = []\n",
    "for doc_id, doc_scores in enumerate(tfidf_scores):\n",
    "    top_n = sorted(doc_scores, key=lambda x: -x[1])[:num_words]\n",
    "    summarized_texts_tfidf.append(' '.join([dictionary[i] for i, _ in top_n]))\n",
    "texts['summarized_tf-idf'] = summarized_texts_tfidf"
   ],
   "metadata": {
    "collapsed": false
   }
  },
  {
   "cell_type": "code",
   "execution_count": 125,
   "outputs": [
    {
     "data": {
      "text/plain": "                                              reviewText  \\\n0      This book was the very first bookmobile book I...   \n1      When I read the description for this book, I c...   \n2      I just had to edit this review. This book is a...   \n3      I don't normally buy 'mystery' novels because ...   \n4      This isn't the kind of book I normally read, a...   \n...                                                  ...   \n11995  Had to read certain passages twice--typos.  Wi...   \n11996  Not what i expected. yet a very interesting bo...   \n11997  Dragon Knights is a world where Knights ride d...   \n11998  Since this story is very short, it's hard to s...   \n11999  from 1922 an amazing collection of info on sym...   \n\n                                       preprocessed_text  \\\n0      book bookmobile book buy school book club love...   \n1      read description book wait read download kindl...   \n2      edit review book believe get right update writ...   \n3      normally buy mystery novel like time decide ch...   \n4      kind book normally read try limit certain genr...   \n...                                                  ...   \n11995  read certain passage twice typo wish build rel...   \n11996  expect interesting book usually read book era ...   \n11997  dragon knights world knights ride dragon slay ...   \n11998  story short hard give away plot story war batt...   \n11999  amazing collection info symbol culture world z...   \n\n                                       summarized_tf-idf  \n0      memory bookmobile donut relive bet grade dolla...  \n1      aaron jada passion father finally blah barf so...  \n2      bechett hmmmm ha barrett luv scottie battery c...  \n3      mystery engross buy novel exception normally e...  \n4      johnston ty epic tedious limit alive trilogy p...  \n...                                                  ...  \n11995  passage twice typo certain chemistry build wis...  \n11996  era usually interest expect interesting go boo...  \n11997  dragon knights backgroung firedrake gryphons h...  \n11998  seamlessly effective slip battle reality war s...  \n11999  ocr zodiac comprehensive symbol index gem info...  \n\n[12000 rows x 3 columns]",
      "text/html": "<div>\n<style scoped>\n    .dataframe tbody tr th:only-of-type {\n        vertical-align: middle;\n    }\n\n    .dataframe tbody tr th {\n        vertical-align: top;\n    }\n\n    .dataframe thead th {\n        text-align: right;\n    }\n</style>\n<table border=\"1\" class=\"dataframe\">\n  <thead>\n    <tr style=\"text-align: right;\">\n      <th></th>\n      <th>reviewText</th>\n      <th>preprocessed_text</th>\n      <th>summarized_tf-idf</th>\n    </tr>\n  </thead>\n  <tbody>\n    <tr>\n      <th>0</th>\n      <td>This book was the very first bookmobile book I...</td>\n      <td>book bookmobile book buy school book club love...</td>\n      <td>memory bookmobile donut relive bet grade dolla...</td>\n    </tr>\n    <tr>\n      <th>1</th>\n      <td>When I read the description for this book, I c...</td>\n      <td>read description book wait read download kindl...</td>\n      <td>aaron jada passion father finally blah barf so...</td>\n    </tr>\n    <tr>\n      <th>2</th>\n      <td>I just had to edit this review. This book is a...</td>\n      <td>edit review book believe get right update writ...</td>\n      <td>bechett hmmmm ha barrett luv scottie battery c...</td>\n    </tr>\n    <tr>\n      <th>3</th>\n      <td>I don't normally buy 'mystery' novels because ...</td>\n      <td>normally buy mystery novel like time decide ch...</td>\n      <td>mystery engross buy novel exception normally e...</td>\n    </tr>\n    <tr>\n      <th>4</th>\n      <td>This isn't the kind of book I normally read, a...</td>\n      <td>kind book normally read try limit certain genr...</td>\n      <td>johnston ty epic tedious limit alive trilogy p...</td>\n    </tr>\n    <tr>\n      <th>...</th>\n      <td>...</td>\n      <td>...</td>\n      <td>...</td>\n    </tr>\n    <tr>\n      <th>11995</th>\n      <td>Had to read certain passages twice--typos.  Wi...</td>\n      <td>read certain passage twice typo wish build rel...</td>\n      <td>passage twice typo certain chemistry build wis...</td>\n    </tr>\n    <tr>\n      <th>11996</th>\n      <td>Not what i expected. yet a very interesting bo...</td>\n      <td>expect interesting book usually read book era ...</td>\n      <td>era usually interest expect interesting go boo...</td>\n    </tr>\n    <tr>\n      <th>11997</th>\n      <td>Dragon Knights is a world where Knights ride d...</td>\n      <td>dragon knights world knights ride dragon slay ...</td>\n      <td>dragon knights backgroung firedrake gryphons h...</td>\n    </tr>\n    <tr>\n      <th>11998</th>\n      <td>Since this story is very short, it's hard to s...</td>\n      <td>story short hard give away plot story war batt...</td>\n      <td>seamlessly effective slip battle reality war s...</td>\n    </tr>\n    <tr>\n      <th>11999</th>\n      <td>from 1922 an amazing collection of info on sym...</td>\n      <td>amazing collection info symbol culture world z...</td>\n      <td>ocr zodiac comprehensive symbol index gem info...</td>\n    </tr>\n  </tbody>\n</table>\n<p>12000 rows × 3 columns</p>\n</div>"
     },
     "execution_count": 125,
     "metadata": {},
     "output_type": "execute_result"
    }
   ],
   "source": [
    "texts"
   ],
   "metadata": {
    "collapsed": false
   }
  },
  {
   "cell_type": "markdown",
   "source": [
    "Word2Vec"
   ],
   "metadata": {
    "collapsed": false
   }
  },
  {
   "cell_type": "code",
   "execution_count": 126,
   "outputs": [],
   "source": [
    "import numpy as np\n",
    "\n",
    "def cosine_similarity(a, b):\n",
    "    dot_product = np.dot(a, b)\n",
    "    norm_a = np.linalg.norm(a)\n",
    "    norm_b = np.linalg.norm(b)\n",
    "    similarity = dot_product / (norm_a * norm_b)\n",
    "    return similarity"
   ],
   "metadata": {
    "collapsed": false
   }
  },
  {
   "cell_type": "code",
   "execution_count": 127,
   "outputs": [],
   "source": [
    "num_words = 15\n",
    "summarized_texts_w2v = []\n",
    "for doc in tokenized_reviews:\n",
    "    doc_words_and_embeddings = [(word, w2v_model.wv[word]) for word in doc if word in w2v_model.wv]\n",
    "    doc_embeddings_only = [x[1] for x in doc_words_and_embeddings]\n",
    "    doc_avg_embedding = sum(doc_embeddings_only) / len(doc_embeddings_only)\n",
    "    similarity_scores = [(word, cosine_similarity(word_embedding, doc_avg_embedding)) for (word, word_embedding) in doc_words_and_embeddings]\n",
    "    summary = ' '.join([word for word, _ in sorted(similarity_scores, key=lambda x: x[1])[:num_words]])\n",
    "    summarized_texts_w2v.append(summary)\n",
    "texts['summarized_w2v'] = summarized_texts_w2v"
   ],
   "metadata": {
    "collapsed": false
   }
  },
  {
   "cell_type": "code",
   "execution_count": 128,
   "outputs": [
    {
     "data": {
      "text/plain": "                                              reviewText  \\\n0      This book was the very first bookmobile book I...   \n1      When I read the description for this book, I c...   \n2      I just had to edit this review. This book is a...   \n3      I don't normally buy 'mystery' novels because ...   \n4      This isn't the kind of book I normally read, a...   \n...                                                  ...   \n11995  Had to read certain passages twice--typos.  Wi...   \n11996  Not what i expected. yet a very interesting bo...   \n11997  Dragon Knights is a world where Knights ride d...   \n11998  Since this story is very short, it's hard to s...   \n11999  from 1922 an amazing collection of info on sym...   \n\n                                       preprocessed_text  \\\n0      book bookmobile book buy school book club love...   \n1      read description book wait read download kindl...   \n2      edit review book believe get right update writ...   \n3      normally buy mystery novel like time decide ch...   \n4      kind book normally read try limit certain genr...   \n...                                                  ...   \n11995  read certain passage twice typo wish build rel...   \n11996  expect interesting book usually read book era ...   \n11997  dragon knights world knights ride dragon slay ...   \n11998  story short hard give away plot story war batt...   \n11999  amazing collection info symbol culture world z...   \n\n                                       summarized_tf-idf  \\\n0      memory bookmobile donut relive bet grade dolla...   \n1      aaron jada passion father finally blah barf so...   \n2      bechett hmmmm ha barrett luv scottie battery c...   \n3      mystery engross buy novel exception normally e...   \n4      johnston ty epic tedious limit alive trilogy p...   \n...                                                  ...   \n11995  passage twice typo certain chemistry build wis...   \n11996  era usually interest expect interesting go boo...   \n11997  dragon knights backgroung firedrake gryphons h...   \n11998  seamlessly effective slip battle reality war s...   \n11999  ocr zodiac comprehensive symbol index gem info...   \n\n                                          summarized_w2v  \n0      serve club school forward memory memory look l...  \n1      eat torture theme tooth blah blah kindle kindl...  \n2      king max wall study war match new heat large m...  \n3      decide chance time mystery mystery engage cons...  \n4      hold word alive trilogy try fantasy limit para...  \n...                                                  ...  \n11995  twice certain read typo build relationship che...  \n11996  era interest go usually interesting expect rea...  \n11997  advance change dream ride world novella read r...  \n11998  war battle away reality fantasy give writing s...  \n11999  world amazing sign culture table error info co...  \n\n[12000 rows x 4 columns]",
      "text/html": "<div>\n<style scoped>\n    .dataframe tbody tr th:only-of-type {\n        vertical-align: middle;\n    }\n\n    .dataframe tbody tr th {\n        vertical-align: top;\n    }\n\n    .dataframe thead th {\n        text-align: right;\n    }\n</style>\n<table border=\"1\" class=\"dataframe\">\n  <thead>\n    <tr style=\"text-align: right;\">\n      <th></th>\n      <th>reviewText</th>\n      <th>preprocessed_text</th>\n      <th>summarized_tf-idf</th>\n      <th>summarized_w2v</th>\n    </tr>\n  </thead>\n  <tbody>\n    <tr>\n      <th>0</th>\n      <td>This book was the very first bookmobile book I...</td>\n      <td>book bookmobile book buy school book club love...</td>\n      <td>memory bookmobile donut relive bet grade dolla...</td>\n      <td>serve club school forward memory memory look l...</td>\n    </tr>\n    <tr>\n      <th>1</th>\n      <td>When I read the description for this book, I c...</td>\n      <td>read description book wait read download kindl...</td>\n      <td>aaron jada passion father finally blah barf so...</td>\n      <td>eat torture theme tooth blah blah kindle kindl...</td>\n    </tr>\n    <tr>\n      <th>2</th>\n      <td>I just had to edit this review. This book is a...</td>\n      <td>edit review book believe get right update writ...</td>\n      <td>bechett hmmmm ha barrett luv scottie battery c...</td>\n      <td>king max wall study war match new heat large m...</td>\n    </tr>\n    <tr>\n      <th>3</th>\n      <td>I don't normally buy 'mystery' novels because ...</td>\n      <td>normally buy mystery novel like time decide ch...</td>\n      <td>mystery engross buy novel exception normally e...</td>\n      <td>decide chance time mystery mystery engage cons...</td>\n    </tr>\n    <tr>\n      <th>4</th>\n      <td>This isn't the kind of book I normally read, a...</td>\n      <td>kind book normally read try limit certain genr...</td>\n      <td>johnston ty epic tedious limit alive trilogy p...</td>\n      <td>hold word alive trilogy try fantasy limit para...</td>\n    </tr>\n    <tr>\n      <th>...</th>\n      <td>...</td>\n      <td>...</td>\n      <td>...</td>\n      <td>...</td>\n    </tr>\n    <tr>\n      <th>11995</th>\n      <td>Had to read certain passages twice--typos.  Wi...</td>\n      <td>read certain passage twice typo wish build rel...</td>\n      <td>passage twice typo certain chemistry build wis...</td>\n      <td>twice certain read typo build relationship che...</td>\n    </tr>\n    <tr>\n      <th>11996</th>\n      <td>Not what i expected. yet a very interesting bo...</td>\n      <td>expect interesting book usually read book era ...</td>\n      <td>era usually interest expect interesting go boo...</td>\n      <td>era interest go usually interesting expect rea...</td>\n    </tr>\n    <tr>\n      <th>11997</th>\n      <td>Dragon Knights is a world where Knights ride d...</td>\n      <td>dragon knights world knights ride dragon slay ...</td>\n      <td>dragon knights backgroung firedrake gryphons h...</td>\n      <td>advance change dream ride world novella read r...</td>\n    </tr>\n    <tr>\n      <th>11998</th>\n      <td>Since this story is very short, it's hard to s...</td>\n      <td>story short hard give away plot story war batt...</td>\n      <td>seamlessly effective slip battle reality war s...</td>\n      <td>war battle away reality fantasy give writing s...</td>\n    </tr>\n    <tr>\n      <th>11999</th>\n      <td>from 1922 an amazing collection of info on sym...</td>\n      <td>amazing collection info symbol culture world z...</td>\n      <td>ocr zodiac comprehensive symbol index gem info...</td>\n      <td>world amazing sign culture table error info co...</td>\n    </tr>\n  </tbody>\n</table>\n<p>12000 rows × 4 columns</p>\n</div>"
     },
     "execution_count": 128,
     "metadata": {},
     "output_type": "execute_result"
    }
   ],
   "source": [
    "texts"
   ],
   "metadata": {
    "collapsed": false
   }
  },
  {
   "cell_type": "markdown",
   "source": [
    "### 3. Named Entity Recognition"
   ],
   "metadata": {
    "collapsed": false
   }
  },
  {
   "cell_type": "code",
   "execution_count": 138,
   "outputs": [],
   "source": [
    "summary_tfidf_ner = []\n",
    "summary_w2v_ner = []\n",
    "for summary in texts['summarized_tf-idf']:\n",
    "    doc = nlp(summary)\n",
    "    summary_tfidf_ner.append(doc.ents)\n",
    "texts['ner_tfidf'] = summary_tfidf_ner\n",
    "\n",
    "for summary in texts['summarized_w2v']:\n",
    "    doc = nlp(summary)\n",
    "    summary_w2v_ner.append(doc.ents)\n",
    "texts['ner_w2v'] = summary_w2v_ner"
   ],
   "metadata": {
    "collapsed": false
   }
  },
  {
   "cell_type": "code",
   "execution_count": 139,
   "outputs": [
    {
     "data": {
      "text/plain": "                                              reviewText  \\\n0      This book was the very first bookmobile book I...   \n1      When I read the description for this book, I c...   \n2      I just had to edit this review. This book is a...   \n3      I don't normally buy 'mystery' novels because ...   \n4      This isn't the kind of book I normally read, a...   \n...                                                  ...   \n11995  Had to read certain passages twice--typos.  Wi...   \n11996  Not what i expected. yet a very interesting bo...   \n11997  Dragon Knights is a world where Knights ride d...   \n11998  Since this story is very short, it's hard to s...   \n11999  from 1922 an amazing collection of info on sym...   \n\n                                       preprocessed_text  \\\n0      book bookmobile book buy school book club love...   \n1      read description book wait read download kindl...   \n2      edit review book believe get right update writ...   \n3      normally buy mystery novel like time decide ch...   \n4      kind book normally read try limit certain genr...   \n...                                                  ...   \n11995  read certain passage twice typo wish build rel...   \n11996  expect interesting book usually read book era ...   \n11997  dragon knights world knights ride dragon slay ...   \n11998  story short hard give away plot story war batt...   \n11999  amazing collection info symbol culture world z...   \n\n                                       summarized_tf-idf  \\\n0      memory bookmobile donut relive bet grade dolla...   \n1      aaron jada passion father finally blah barf so...   \n2      bechett hmmmm ha barrett luv scottie battery c...   \n3      mystery engross buy novel exception normally e...   \n4      johnston ty epic tedious limit alive trilogy p...   \n...                                                  ...   \n11995  passage twice typo certain chemistry build wis...   \n11996  era usually interest expect interesting go boo...   \n11997  dragon knights backgroung firedrake gryphons h...   \n11998  seamlessly effective slip battle reality war s...   \n11999  ocr zodiac comprehensive symbol index gem info...   \n\n                                          summarized_w2v  \\\n0      serve club school forward memory memory look l...   \n1      eat torture theme tooth blah blah kindle kindl...   \n2      king max wall study war match new heat large m...   \n3      decide chance time mystery mystery engage cons...   \n4      hold word alive trilogy try fantasy limit para...   \n...                                                  ...   \n11995  twice certain read typo build relationship che...   \n11996  era interest go usually interesting expect rea...   \n11997  advance change dream ride world novella read r...   \n11998  war battle away reality fantasy give writing s...   \n11999  world amazing sign culture table error info co...   \n\n                                               ner_tfidf  \\\n0                                                     ()   \n1                ((aaron, jada), (harvard, accommodate))   \n2                                                     ()   \n3                                                     ()   \n4                                      ((johnston, ty),)   \n...                                                  ...   \n11995                                                 ()   \n11996                                                 ()   \n11997  ((dragon, knights, backgroung, firedrake, gryp...   \n11998                                                 ()   \n11999                                   ((ocr, zodiac),)   \n\n                               ner_w2v  \n0                                   ()  \n1      ((blah, blah, kindle, kindle),)  \n2                       ((max, wall),)  \n3                                   ()  \n4                                   ()  \n...                                ...  \n11995                               ()  \n11996                               ()  \n11997              ((knight, dragon),)  \n11998                               ()  \n11999                               ()  \n\n[12000 rows x 6 columns]",
      "text/html": "<div>\n<style scoped>\n    .dataframe tbody tr th:only-of-type {\n        vertical-align: middle;\n    }\n\n    .dataframe tbody tr th {\n        vertical-align: top;\n    }\n\n    .dataframe thead th {\n        text-align: right;\n    }\n</style>\n<table border=\"1\" class=\"dataframe\">\n  <thead>\n    <tr style=\"text-align: right;\">\n      <th></th>\n      <th>reviewText</th>\n      <th>preprocessed_text</th>\n      <th>summarized_tf-idf</th>\n      <th>summarized_w2v</th>\n      <th>ner_tfidf</th>\n      <th>ner_w2v</th>\n    </tr>\n  </thead>\n  <tbody>\n    <tr>\n      <th>0</th>\n      <td>This book was the very first bookmobile book I...</td>\n      <td>book bookmobile book buy school book club love...</td>\n      <td>memory bookmobile donut relive bet grade dolla...</td>\n      <td>serve club school forward memory memory look l...</td>\n      <td>()</td>\n      <td>()</td>\n    </tr>\n    <tr>\n      <th>1</th>\n      <td>When I read the description for this book, I c...</td>\n      <td>read description book wait read download kindl...</td>\n      <td>aaron jada passion father finally blah barf so...</td>\n      <td>eat torture theme tooth blah blah kindle kindl...</td>\n      <td>((aaron, jada), (harvard, accommodate))</td>\n      <td>((blah, blah, kindle, kindle),)</td>\n    </tr>\n    <tr>\n      <th>2</th>\n      <td>I just had to edit this review. This book is a...</td>\n      <td>edit review book believe get right update writ...</td>\n      <td>bechett hmmmm ha barrett luv scottie battery c...</td>\n      <td>king max wall study war match new heat large m...</td>\n      <td>()</td>\n      <td>((max, wall),)</td>\n    </tr>\n    <tr>\n      <th>3</th>\n      <td>I don't normally buy 'mystery' novels because ...</td>\n      <td>normally buy mystery novel like time decide ch...</td>\n      <td>mystery engross buy novel exception normally e...</td>\n      <td>decide chance time mystery mystery engage cons...</td>\n      <td>()</td>\n      <td>()</td>\n    </tr>\n    <tr>\n      <th>4</th>\n      <td>This isn't the kind of book I normally read, a...</td>\n      <td>kind book normally read try limit certain genr...</td>\n      <td>johnston ty epic tedious limit alive trilogy p...</td>\n      <td>hold word alive trilogy try fantasy limit para...</td>\n      <td>((johnston, ty),)</td>\n      <td>()</td>\n    </tr>\n    <tr>\n      <th>...</th>\n      <td>...</td>\n      <td>...</td>\n      <td>...</td>\n      <td>...</td>\n      <td>...</td>\n      <td>...</td>\n    </tr>\n    <tr>\n      <th>11995</th>\n      <td>Had to read certain passages twice--typos.  Wi...</td>\n      <td>read certain passage twice typo wish build rel...</td>\n      <td>passage twice typo certain chemistry build wis...</td>\n      <td>twice certain read typo build relationship che...</td>\n      <td>()</td>\n      <td>()</td>\n    </tr>\n    <tr>\n      <th>11996</th>\n      <td>Not what i expected. yet a very interesting bo...</td>\n      <td>expect interesting book usually read book era ...</td>\n      <td>era usually interest expect interesting go boo...</td>\n      <td>era interest go usually interesting expect rea...</td>\n      <td>()</td>\n      <td>()</td>\n    </tr>\n    <tr>\n      <th>11997</th>\n      <td>Dragon Knights is a world where Knights ride d...</td>\n      <td>dragon knights world knights ride dragon slay ...</td>\n      <td>dragon knights backgroung firedrake gryphons h...</td>\n      <td>advance change dream ride world novella read r...</td>\n      <td>((dragon, knights, backgroung, firedrake, gryp...</td>\n      <td>((knight, dragon),)</td>\n    </tr>\n    <tr>\n      <th>11998</th>\n      <td>Since this story is very short, it's hard to s...</td>\n      <td>story short hard give away plot story war batt...</td>\n      <td>seamlessly effective slip battle reality war s...</td>\n      <td>war battle away reality fantasy give writing s...</td>\n      <td>()</td>\n      <td>()</td>\n    </tr>\n    <tr>\n      <th>11999</th>\n      <td>from 1922 an amazing collection of info on sym...</td>\n      <td>amazing collection info symbol culture world z...</td>\n      <td>ocr zodiac comprehensive symbol index gem info...</td>\n      <td>world amazing sign culture table error info co...</td>\n      <td>((ocr, zodiac),)</td>\n      <td>()</td>\n    </tr>\n  </tbody>\n</table>\n<p>12000 rows × 6 columns</p>\n</div>"
     },
     "execution_count": 139,
     "metadata": {},
     "output_type": "execute_result"
    }
   ],
   "source": [
    "texts"
   ],
   "metadata": {
    "collapsed": false
   }
  },
  {
   "cell_type": "code",
   "execution_count": 146,
   "outputs": [
    {
     "name": "stdout",
     "output_type": "stream",
     "text": [
      "piano\n",
      "water\n"
     ]
    }
   ],
   "source": [
    "#cross one out\n",
    "print(w2v_model.wv.doesnt_match(['book', 'piano', 'read']))\n",
    "print(w2v_model.wv.doesnt_match(['book', 'science', 'water']))"
   ],
   "metadata": {
    "collapsed": false
   }
  },
  {
   "cell_type": "code",
   "execution_count": 151,
   "outputs": [
    {
     "data": {
      "text/plain": "[('grad', 0.9258071184158325),\n ('graduate', 0.9110099077224731),\n ('professor', 0.9031205177307129),\n ('freshman', 0.8927655816078186),\n ('math', 0.8722860813140869),\n ('junior', 0.8531510233879089),\n ('seminary', 0.8518487811088562),\n ('realizes', 0.8482683897018433),\n ('swordmaster', 0.8427854776382446),\n ('semester', 0.8362836241722107)]"
     },
     "execution_count": 151,
     "metadata": {},
     "output_type": "execute_result"
    }
   ],
   "source": [
    "w2v_model.wv.most_similar(['student', 'university'])"
   ],
   "metadata": {
    "collapsed": false
   }
  },
  {
   "cell_type": "code",
   "execution_count": 155,
   "outputs": [],
   "source": [
    "from rouge import Rouge\n",
    "rouge = Rouge()\n",
    "\n",
    "tfidf_metrics = []\n",
    "w2v_metrics = []\n",
    "\n",
    "for reference, tfidf_sum, w2v_sum in zip(texts['preprocessed_text'], texts['summarized_tf-idf'], texts['summarized_w2v']):\n",
    "    tfidf_metrics.append(rouge.get_scores(reference, tfidf_sum))\n",
    "    w2v_metrics.append(rouge.get_scores(reference, w2v_sum))"
   ],
   "metadata": {
    "collapsed": false
   }
  },
  {
   "cell_type": "code",
   "execution_count": 161,
   "outputs": [
    {
     "data": {
      "text/plain": "[[{'rouge-1': {'r': 1.0, 'p': 0.9375, 'f': 0.967741930489074},\n   'rouge-2': {'r': 0.0, 'p': 0.0, 'f': 0.0},\n   'rouge-l': {'r': 0.3333333333333333,\n    'p': 0.3125,\n    'f': 0.3225806401664933}}]]"
     },
     "execution_count": 161,
     "metadata": {},
     "output_type": "execute_result"
    }
   ],
   "source": [
    "tfidf_metrics[123]"
   ],
   "metadata": {
    "collapsed": false
   }
  },
  {
   "cell_type": "code",
   "execution_count": 163,
   "outputs": [
    {
     "data": {
      "text/plain": "[{'rouge-1': {'r': 1.0, 'p': 0.2549019607843137, 'f': 0.40624999676269535},\n  'rouge-2': {'r': 0.0, 'p': 0.0, 'f': 0.0},\n  'rouge-l': {'r': 0.46153846153846156,\n   'p': 0.11764705882352941,\n   'f': 0.18749999676269535}}]"
     },
     "execution_count": 163,
     "metadata": {},
     "output_type": "execute_result"
    }
   ],
   "source": [
    "w2v_metrics[123]"
   ],
   "metadata": {
    "collapsed": false
   }
  }
 ],
 "metadata": {
  "kernelspec": {
   "display_name": "Python 3",
   "language": "python",
   "name": "python3"
  },
  "language_info": {
   "codemirror_mode": {
    "name": "ipython",
    "version": 2
   },
   "file_extension": ".py",
   "mimetype": "text/x-python",
   "name": "python",
   "nbconvert_exporter": "python",
   "pygments_lexer": "ipython2",
   "version": "2.7.6"
  }
 },
 "nbformat": 4,
 "nbformat_minor": 0
}
